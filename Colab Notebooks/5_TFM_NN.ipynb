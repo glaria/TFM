{
  "nbformat": 4,
  "nbformat_minor": 0,
  "metadata": {
    "colab": {
      "provenance": [],
      "gpuType": "V100",
      "authorship_tag": "ABX9TyMyDVLtv1TS5tT6yMID5kMa",
      "include_colab_link": true
    },
    "kernelspec": {
      "name": "python3",
      "display_name": "Python 3"
    },
    "language_info": {
      "name": "python"
    },
    "accelerator": "GPU",
    "gpuClass": "standard"
  },
  "cells": [
    {
      "cell_type": "markdown",
      "metadata": {
        "id": "view-in-github",
        "colab_type": "text"
      },
      "source": [
        "<a href=\"https://colab.research.google.com/github/glaria/TFM/blob/main/Colab%20Notebooks/5_TFM_NN.ipynb\" target=\"_parent\"><img src=\"https://colab.research.google.com/assets/colab-badge.svg\" alt=\"Open In Colab\"/></a>"
      ]
    },
    {
      "cell_type": "markdown",
      "source": [
        "# Redes Neuronales\n",
        "Vamos a probar ahora con redes neuronales usando la librería Keras (el uso de GPU's mejora los tiempos de entrenamiento)"
      ],
      "metadata": {
        "id": "PLVSgoV8c9bC"
      }
    },
    {
      "cell_type": "markdown",
      "source": [
        "Carga del dataset"
      ],
      "metadata": {
        "id": "0mnVubhPClwN"
      }
    },
    {
      "cell_type": "code",
      "execution_count": null,
      "metadata": {
        "id": "S0UZ3bLOCiN0",
        "colab": {
          "base_uri": "https://localhost:8080/"
        },
        "outputId": "f3d138ab-82df-4427-c02a-d2f27a8e7061"
      },
      "outputs": [
        {
          "output_type": "stream",
          "name": "stdout",
          "text": [
            "Mounted at /content/gdrive\n"
          ]
        }
      ],
      "source": [
        "from google.colab import drive\n",
        "import os\n",
        "import pandas as pd\n",
        "drive.mount('/content/gdrive')\n",
        "\n",
        "dataset_path = '/content/gdrive/MyDrive/malware_datasets/balanced_df.csv'\n",
        "\n",
        "df = pd.read_csv(dataset_path)"
      ]
    },
    {
      "cell_type": "code",
      "source": [
        "import numpy as np\n",
        "from sklearn.model_selection import train_test_split\n",
        "from keras.models import Sequential\n",
        "from keras.layers import Dense\n",
        "from keras.optimizers import Adam\n",
        "from sklearn.metrics import f1_score, precision_score, accuracy_score, recall_score, confusion_matrix\n",
        "from sklearn.model_selection import cross_validate\n",
        "from keras.wrappers.scikit_learn import KerasClassifier\n",
        "\n",
        "def evaluate_model(build_fn, X_train, y_train, X_test, y_test, cv=5):\n",
        "    metrics = {\n",
        "        'f1': 'f1',\n",
        "        'precision': 'precision',\n",
        "        'accuracy': 'accuracy',\n",
        "        'recall': 'recall'\n",
        "    }\n",
        "    \n",
        "    #KerasClassifier\n",
        "    model = KerasClassifier(build_fn=build_fn, epochs=10, batch_size=32, verbose=0)\n",
        "    \n",
        "    # Validación cruzada en el conjunto train\n",
        "    cv_results = cross_validate(model, X_train, y_train, cv=cv, scoring=metrics, return_train_score=True)\n",
        "\n",
        "    # Entrenamos el modelo\n",
        "    model.fit(X_train, y_train)\n",
        "\n",
        "    # Resultados en el conjunto de test\n",
        "    y_pred = model.predict(X_test)\n",
        "    test_results = {\n",
        "        'f1': f1_score(y_test, y_pred),\n",
        "        'precision': precision_score(y_test, y_pred),\n",
        "        'accuracy': accuracy_score(y_test, y_pred),\n",
        "        'recall': recall_score(y_test, y_pred),\n",
        "        'confusion_matrix': confusion_matrix(y_test, y_pred)\n",
        "    }\n",
        "\n",
        "    #modelo entrenado + de los resultados\n",
        "    return model, cv_results, test_results\n"
      ],
      "metadata": {
        "id": "B-rhuwFqSSbY"
      },
      "execution_count": null,
      "outputs": []
    },
    {
      "cell_type": "code",
      "source": [
        "X = df.drop(['Malware', 'data_source'], axis=1) #quitamos columnas no numericas y las etiquetas\n",
        "y = df['Malware']\n",
        "\n",
        "X_train, X_test, y_train, y_test = train_test_split(X, y, test_size=0.2, random_state=42)\n",
        "\n",
        "def build_model():\n",
        "    model = Sequential()\n",
        "    model.add(Dense(64, input_dim=X_train.shape[1], activation='relu'))\n",
        "    model.add(Dense(32, activation='relu'))\n",
        "    model.add(Dense(32, activation='relu'))\n",
        "\n",
        "    model.add(Dense(16, activation='relu'))\n",
        "    model.add(Dense(1, activation='sigmoid')) \n",
        "    model.compile(loss='binary_crossentropy', optimizer=Adam(), metrics=['accuracy'])\n",
        "    return model\n",
        "\n",
        "model, cv_results, test_results = evaluate_model(build_model, X_train, y_train, X_test, y_test)\n"
      ],
      "metadata": {
        "id": "twpqCt1aDyCZ",
        "colab": {
          "base_uri": "https://localhost:8080/"
        },
        "outputId": "b2f81ccc-9c09-44b0-d939-fc11ab1d6abb"
      },
      "execution_count": null,
      "outputs": [
        {
          "output_type": "stream",
          "name": "stderr",
          "text": [
            "<ipython-input-2-982c83dc8020>:19: DeprecationWarning: KerasClassifier is deprecated, use Sci-Keras (https://github.com/adriangb/scikeras) instead. See https://www.adriangb.com/scikeras/stable/migration.html for help migrating.\n",
            "  model = KerasClassifier(build_fn=build_fn, epochs=10, batch_size=32, verbose=0)\n"
          ]
        },
        {
          "output_type": "stream",
          "name": "stdout",
          "text": [
            "207/207 [==============================] - 0s 2ms/step\n",
            "826/826 [==============================] - 1s 2ms/step\n",
            "207/207 [==============================] - 0s 1ms/step\n",
            "826/826 [==============================] - 1s 2ms/step\n",
            "207/207 [==============================] - 0s 2ms/step\n",
            "826/826 [==============================] - 2s 2ms/step\n",
            "207/207 [==============================] - 0s 2ms/step\n",
            "826/826 [==============================] - 1s 2ms/step\n",
            "207/207 [==============================] - 0s 2ms/step\n",
            "826/826 [==============================] - 1s 2ms/step\n",
            "258/258 [==============================] - 0s 2ms/step\n"
          ]
        }
      ]
    },
    {
      "cell_type": "markdown",
      "source": [
        "Obtenemos los resultados del modelo entrenado"
      ],
      "metadata": {
        "id": "JRlOamMJXbIl"
      }
    },
    {
      "cell_type": "code",
      "source": [
        "#resultados de la validación cruzada\n",
        "print(\"Resultados de la validación cruzada:\")\n",
        "for metric_name, metric_values in cv_results.items():\n",
        "    print(f\"{metric_name}: {metric_values}\")\n",
        "\n",
        "# resultados en el conjunto de prueba\n",
        "print(\"\\nResultados en el conjunto de prueba:\")\n",
        "for metric_name, metric_value in test_results.items():\n",
        "    if metric_name != 'confusion_matrix':\n",
        "        print(f\"{metric_name}: {metric_value}\")\n",
        "    else:\n",
        "        print(f\"{metric_name}:\\n{metric_value}\")\n"
      ],
      "metadata": {
        "colab": {
          "base_uri": "https://localhost:8080/"
        },
        "id": "VPlcnYCYXdoH",
        "outputId": "c3d41bcd-87f5-436d-c4fc-b20cdfe5a98e"
      },
      "execution_count": null,
      "outputs": [
        {
          "output_type": "stream",
          "name": "stdout",
          "text": [
            "Resultados de la validación cruzada:\n",
            "fit_time: [28.16678667 22.07958341 22.63779283 22.55092907 22.58745551]\n",
            "score_time: [0.60093594 0.49769211 0.96040654 0.52551889 0.50638318]\n",
            "test_f1: [0.90481283 0.87609912 0.89884918 0.79605432 0.63351526]\n",
            "train_f1: [0.90963008 0.87983641 0.9009009  0.79283373 0.63208697]\n",
            "test_precision: [0.91360691 0.93070652 0.89290012 0.69198218 0.9554878 ]\n",
            "train_precision: [0.91397357 0.93506051 0.89173389 0.69362258 0.96106906]\n",
            "test_accuracy: [0.90562036 0.88259355 0.89880321 0.75878788 0.72530303]\n",
            "train_accuracy: [0.90996894 0.88648587 0.89959094 0.75824717 0.72571299]\n",
            "test_recall: [0.89618644 0.82754455 0.90487805 0.93697226 0.47384336]\n",
            "train_recall: [0.90532768 0.83077156 0.91025835 0.92516285 0.47089547]\n",
            "\n",
            "Resultados en el conjunto de prueba:\n",
            "f1: 0.9137469741368327\n",
            "precision: 0.9588235294117647\n",
            "accuracy: 0.9179493394740031\n",
            "recall: 0.8727184229739596\n",
            "confusion_matrix:\n",
            "[[3988  154]\n",
            " [ 523 3586]]\n"
          ]
        }
      ]
    },
    {
      "cell_type": "code",
      "source": [
        "from sklearn.metrics import confusion_matrix, roc_auc_score, RocCurveDisplay\n",
        "import seaborn as sns\n",
        "import matplotlib.pyplot as plt\n",
        "from sklearn.metrics import roc_curve\n",
        "\n",
        "def plot_results(model, X_train, y_train, X_test, y_test, model_name):\n",
        "    print(f\"Modelo: {model_name}\")\n",
        "\n",
        "    # Matriz de confusión (mejor visualización)\n",
        "    y_pred = model.predict(X_test).round()\n",
        "    cm = confusion_matrix(y_test, y_pred)\n",
        "    sns.heatmap(cm, annot=True, fmt=\"d\", cmap=\"crest\")\n",
        "    plt.title(f\"Matriz de confusión ({model_name})\")\n",
        "    plt.xlabel(\"Clase predicha\")\n",
        "    plt.ylabel(\"Clase real\")\n",
        "    plt.show()\n"
      ],
      "metadata": {
        "id": "mwBux7npS7lZ"
      },
      "execution_count": null,
      "outputs": []
    },
    {
      "cell_type": "code",
      "source": [
        "plot_results(model, X_train, y_train, X_test, y_test, model_name=\"Modelo de clasificación de malware\")\n"
      ],
      "metadata": {
        "colab": {
          "base_uri": "https://localhost:8080/",
          "height": 507
        },
        "id": "aYlzs5n2UZth",
        "outputId": "e9677a71-7a82-4654-f92c-912714ff3348"
      },
      "execution_count": null,
      "outputs": [
        {
          "output_type": "stream",
          "name": "stdout",
          "text": [
            "Modelo: Modelo de clasificación de malware\n",
            "258/258 [==============================] - 0s 2ms/step\n"
          ]
        },
        {
          "output_type": "display_data",
          "data": {
            "text/plain": [
              "<Figure size 640x480 with 2 Axes>"
            ],
            "image/png": "[encoded data removed]"
          },
          "metadata": {}
        }
      ]
    },
    {
      "cell_type": "code",
      "source": [
        "model = build_model()\n",
        "print(model.summary())\n"
      ],
      "metadata": {
        "colab": {
          "base_uri": "https://localhost:8080/"
        },
        "id": "m_5_SfDXwyL4",
        "outputId": "95cea42f-f282-45a7-e394-36b7b0a671dc"
      },
      "execution_count": null,
      "outputs": [
        {
          "output_type": "stream",
          "name": "stdout",
          "text": [
            "Model: \"sequential_6\"\n",
            "_________________________________________________________________\n",
            " Layer (type)                Output Shape              Param #   \n",
            "=================================================================\n",
            " dense_30 (Dense)            (None, 64)                1920      \n",
            "                                                                 \n",
            " dense_31 (Dense)            (None, 32)                2080      \n",
            "                                                                 \n",
            " dense_32 (Dense)            (None, 32)                1056      \n",
            "                                                                 \n",
            " dense_33 (Dense)            (None, 16)                528       \n",
            "                                                                 \n",
            " dense_34 (Dense)            (None, 1)                 17        \n",
            "                                                                 \n",
            "=================================================================\n",
            "Total params: 5,601\n",
            "Trainable params: 5,601\n",
            "Non-trainable params: 0\n",
            "_________________________________________________________________\n",
            "None\n"
          ]
        }
      ]
    },
    {
      "cell_type": "code",
      "source": [],
      "metadata": {
        "id": "tZys_QUEwy0K"
      },
      "execution_count": null,
      "outputs": []
    }
  ]
}