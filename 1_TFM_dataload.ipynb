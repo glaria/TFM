{
  "nbformat": 4,
  "nbformat_minor": 0,
  "metadata": {
    "colab": {
      "provenance": [],
      "authorship_tag": "ABX9TyNNSCa1CtjwMFFMDAkJIug+",
      "include_colab_link": true
    },
    "kernelspec": {
      "name": "python3",
      "display_name": "Python 3"
    },
    "language_info": {
      "name": "python"
    }
  },
  "cells": [
    {
      "cell_type": "markdown",
      "metadata": {
        "id": "view-in-github",
        "colab_type": "text"
      },
      "source": [
        "<a href=\"https://colab.research.google.com/github/glaria/TFM/blob/main/1_TFM_dataload.ipynb\" target=\"_parent\"><img src=\"https://colab.research.google.com/assets/colab-badge.svg\" alt=\"Open In Colab\"/></a>"
      ]
    },
    {
      "cell_type": "markdown",
      "source": [
        "Debemos cargar los datasets para que estén disponibles de forma permanente en Google Drive.\n",
        "Uno de ellos se encuentra en Kaggle, por lo que no hacerlo de esta forma nos obligaría a generar un token de la API de Kaggle en cada sesión lo que puede resultar engorroso"
      ],
      "metadata": {
        "id": "t3psf0FfJdvQ"
      }
    },
    {
      "cell_type": "markdown",
      "source": [
        "Primero hay que montar Google Drive en el entorno de Colab y creamos una carpeta donde guardaremos los datasets"
      ],
      "metadata": {
        "id": "QlwHiLzpKNBM"
      }
    },
    {
      "cell_type": "code",
      "execution_count": null,
      "metadata": {
        "colab": {
          "base_uri": "https://localhost:8080/"
        },
        "id": "rPD8k8YSJY5Y",
        "outputId": "2cad4acf-219a-4200-8239-a57f3252b084"
      },
      "outputs": [
        {
          "output_type": "stream",
          "name": "stdout",
          "text": [
            "Mounted at /content/gdrive\n"
          ]
        }
      ],
      "source": [
        "from google.colab import drive\n",
        "import os\n",
        "\n",
        "drive.mount('/content/gdrive')\n",
        "folder_path = '/content/gdrive/MyDrive/malware_datasets'\n",
        "os.makedirs(folder_path)"
      ]
    },
    {
      "cell_type": "markdown",
      "source": [
        "El primero de los datasets que queremos cargar se encuentra en Kaggle: en https://www.kaggle.com/datasets/amauricio/pe-files-malwares (más datos de este dataset se incluirán en la memoria del TFM)\n",
        "\n",
        "Desde la cuenta de Kaggle generamos una token de la API, que vamos a usar para conectarnos desde Colab.\n",
        "Para ello debemos instalar la librería kaggle de Python y a continuación subir el token de Kaggle\n"
      ],
      "metadata": {
        "id": "HDp3h9xRLx-7"
      }
    },
    {
      "cell_type": "code",
      "source": [
        "!pip install -q kaggle\n",
        "from google.colab import files\n",
        "files.upload()"
      ],
      "metadata": {
        "colab": {
          "base_uri": "https://localhost:8080/",
          "height": 90
        },
        "id": "P-P3CG6kKoUp",
        "outputId": "07a51f7b-5fc4-460f-ca70-2ffc9dd432a6"
      },
      "execution_count": null,
      "outputs": [
        {
          "output_type": "display_data",
          "data": {
            "text/plain": [
              "<IPython.core.display.HTML object>"
            ],
            "text/html": [
              "\n",
              "     <input type=\"file\" id=\"files-6e5ebce4-19f0-40b1-9b3a-48b49c007610\" name=\"files[]\" multiple disabled\n",
              "        style=\"border:none\" />\n",
              "     <output id=\"result-6e5ebce4-19f0-40b1-9b3a-48b49c007610\">\n",
              "      Upload widget is only available when the cell has been executed in the\n",
              "      current browser session. Please rerun this cell to enable.\n",
              "      </output>\n",
              "      <script>// Copyright 2017 Google LLC\n",
              "//\n",
              "// Licensed under the Apache License, Version 2.0 (the \"License\");\n",
              "// you may not use this file except in compliance with the License.\n",
              "// You may obtain a copy of the License at\n",
              "//\n",
              "//      http://www.apache.org/licenses/LICENSE-2.0\n",
              "//\n",
              "// Unless required by applicable law or agreed to in writing, software\n",
              "// distributed under the License is distributed on an \"AS IS\" BASIS,\n",
              "// WITHOUT WARRANTIES OR CONDITIONS OF ANY KIND, either express or implied.\n",
              "// See the License for the specific language governing permissions and\n",
              "// limitations under the License.\n",
              "\n",
              "/**\n",
              " * @fileoverview Helpers for google.colab Python module.\n",
              " */\n",
              "(function(scope) {\n",
              "function span(text, styleAttributes = {}) {\n",
              "  const element = document.createElement('span');\n",
              "  element.textContent = text;\n",
              "  for (const key of Object.keys(styleAttributes)) {\n",
              "    element.style[key] = styleAttributes[key];\n",
              "  }\n",
              "  return element;\n",
              "}\n",
              "\n",
              "// Max number of bytes which will be uploaded at a time.\n",
              "const MAX_PAYLOAD_SIZE = 100 * 1024;\n",
              "\n",
              "function _uploadFiles(inputId, outputId) {\n",
              "  const steps = uploadFilesStep(inputId, outputId);\n",
              "  const outputElement = document.getElementById(outputId);\n",
              "  // Cache steps on the outputElement to make it available for the next call\n",
              "  // to uploadFilesContinue from Python.\n",
              "  outputElement.steps = steps;\n",
              "\n",
              "  return _uploadFilesContinue(outputId);\n",
              "}\n",
              "\n",
              "// This is roughly an async generator (not supported in the browser yet),\n",
              "// where there are multiple asynchronous steps and the Python side is going\n",
              "// to poll for completion of each step.\n",
              "// This uses a Promise to block the python side on completion of each step,\n",
              "// then passes the result of the previous step as the input to the next step.\n",
              "function _uploadFilesContinue(outputId) {\n",
              "  const outputElement = document.getElementById(outputId);\n",
              "  const steps = outputElement.steps;\n",
              "\n",
              "  const next = steps.next(outputElement.lastPromiseValue);\n",
              "  return Promise.resolve(next.value.promise).then((value) => {\n",
              "    // Cache the last promise value to make it available to the next\n",
              "    // step of the generator.\n",
              "    outputElement.lastPromiseValue = value;\n",
              "    return next.value.response;\n",
              "  });\n",
              "}\n",
              "\n",
              "/**\n",
              " * Generator function which is called between each async step of the upload\n",
              " * process.\n",
              " * @param {string} inputId Element ID of the input file picker element.\n",
              " * @param {string} outputId Element ID of the output display.\n",
              " * @return {!Iterable<!Object>} Iterable of next steps.\n",
              " */\n",
              "function* uploadFilesStep(inputId, outputId) {\n",
              "  const inputElement = document.getElementById(inputId);\n",
              "  inputElement.disabled = false;\n",
              "\n",
              "  const outputElement = document.getElementById(outputId);\n",
              "  outputElement.innerHTML = '';\n",
              "\n",
              "  const pickedPromise = new Promise((resolve) => {\n",
              "    inputElement.addEventListener('change', (e) => {\n",
              "      resolve(e.target.files);\n",
              "    });\n",
              "  });\n",
              "\n",
              "  const cancel = document.createElement('button');\n",
              "  inputElement.parentElement.appendChild(cancel);\n",
              "  cancel.textContent = 'Cancel upload';\n",
              "  const cancelPromise = new Promise((resolve) => {\n",
              "    cancel.onclick = () => {\n",
              "      resolve(null);\n",
              "    };\n",
              "  });\n",
              "\n",
              "  // Wait for the user to pick the files.\n",
              "  const files = yield {\n",
              "    promise: Promise.race([pickedPromise, cancelPromise]),\n",
              "    response: {\n",
              "      action: 'starting',\n",
              "    }\n",
              "  };\n",
              "\n",
              "  cancel.remove();\n",
              "\n",
              "  // Disable the input element since further picks are not allowed.\n",
              "  inputElement.disabled = true;\n",
              "\n",
              "  if (!files) {\n",
              "    return {\n",
              "      response: {\n",
              "        action: 'complete',\n",
              "      }\n",
              "    };\n",
              "  }\n",
              "\n",
              "  for (const file of files) {\n",
              "    const li = document.createElement('li');\n",
              "    li.append(span(file.name, {fontWeight: 'bold'}));\n",
              "    li.append(span(\n",
              "        `(${file.type || 'n/a'}) - ${file.size} bytes, ` +\n",
              "        `last modified: ${\n",
              "            file.lastModifiedDate ? file.lastModifiedDate.toLocaleDateString() :\n",
              "                                    'n/a'} - `));\n",
              "    const percent = span('0% done');\n",
              "    li.appendChild(percent);\n",
              "\n",
              "    outputElement.appendChild(li);\n",
              "\n",
              "    const fileDataPromise = new Promise((resolve) => {\n",
              "      const reader = new FileReader();\n",
              "      reader.onload = (e) => {\n",
              "        resolve(e.target.result);\n",
              "      };\n",
              "      reader.readAsArrayBuffer(file);\n",
              "    });\n",
              "    // Wait for the data to be ready.\n",
              "    let fileData = yield {\n",
              "      promise: fileDataPromise,\n",
              "      response: {\n",
              "        action: 'continue',\n",
              "      }\n",
              "    };\n",
              "\n",
              "    // Use a chunked sending to avoid message size limits. See b/62115660.\n",
              "    let position = 0;\n",
              "    do {\n",
              "      const length = Math.min(fileData.byteLength - position, MAX_PAYLOAD_SIZE);\n",
              "      const chunk = new Uint8Array(fileData, position, length);\n",
              "      position += length;\n",
              "\n",
              "      const base64 = btoa(String.fromCharCode.apply(null, chunk));\n",
              "      yield {\n",
              "        response: {\n",
              "          action: 'append',\n",
              "          file: file.name,\n",
              "          data: base64,\n",
              "        },\n",
              "      };\n",
              "\n",
              "      let percentDone = fileData.byteLength === 0 ?\n",
              "          100 :\n",
              "          Math.round((position / fileData.byteLength) * 100);\n",
              "      percent.textContent = `${percentDone}% done`;\n",
              "\n",
              "    } while (position < fileData.byteLength);\n",
              "  }\n",
              "\n",
              "  // All done.\n",
              "  yield {\n",
              "    response: {\n",
              "      action: 'complete',\n",
              "    }\n",
              "  };\n",
              "}\n",
              "\n",
              "scope.google = scope.google || {};\n",
              "scope.google.colab = scope.google.colab || {};\n",
              "scope.google.colab._files = {\n",
              "  _uploadFiles,\n",
              "  _uploadFilesContinue,\n",
              "};\n",
              "})(self);\n",
              "</script> "
            ]
          },
          "metadata": {}
        },
        {
          "output_type": "stream",
          "name": "stdout",
          "text": [
            "Saving kaggle.json to kaggle.json\n"
          ]
        },
        {
          "output_type": "execute_result",
          "data": {
            "text/plain": [
              "{'kaggle.json': b'{\"username\":\"glaria\",\"key\":\"1a6efb2f98e2e6771251478d4ba0e007\"}'}"
            ]
          },
          "metadata": {},
          "execution_count": 2
        }
      ]
    },
    {
      "cell_type": "markdown",
      "source": [
        "Ahora debemos configurar la API de Kaggle tal y como aparece en la documentación oficial: https://www.kaggle.com/general/74235\n",
        "Y a continuación descargar el dataset"
      ],
      "metadata": {
        "id": "i3IAGF73M6Qm"
      }
    },
    {
      "cell_type": "code",
      "source": [
        "!mkdir -p ~/.kaggle\n",
        "!cp kaggle.json ~/.kaggle/\n",
        "!chmod 600 /root/.kaggle/kaggle.json\n",
        "!kaggle datasets download -d amauricio/pe-files-malwares\n"
      ],
      "metadata": {
        "colab": {
          "base_uri": "https://localhost:8080/"
        },
        "id": "QImU7FrIM2TI",
        "outputId": "33ae65aa-1ecb-4faa-f9c9-636e2e09c47d"
      },
      "execution_count": null,
      "outputs": [
        {
          "output_type": "stream",
          "name": "stdout",
          "text": [
            "Downloading pe-files-malwares.zip to /content\n",
            "\r  0% 0.00/1.62M [00:00<?, ?B/s]\n",
            "\r100% 1.62M/1.62M [00:00<00:00, 130MB/s]\n"
          ]
        }
      ]
    },
    {
      "cell_type": "markdown",
      "source": [
        "Ahora solo queda descomprimir el archivo descargado, renombrarlo (para que sea más fácil identificarlo) y moverlo a la carpeta de Drive que hemos creado\n"
      ],
      "metadata": {
        "id": "-oeAqJeLNdx9"
      }
    },
    {
      "cell_type": "code",
      "source": [
        "!unzip pe-files-malwares.zip\n",
        "os.rename(\"dataset_malwares.csv\", \"kaggle_dataset_malware1.csv\")\n",
        "\n",
        "!mv kaggle_dataset_malware1.csv /content/gdrive/MyDrive/malware_datasets\n"
      ],
      "metadata": {
        "colab": {
          "base_uri": "https://localhost:8080/"
        },
        "id": "CcTkzNXUNVZV",
        "outputId": "37204c74-71db-428f-9ccf-902177af8a2a"
      },
      "execution_count": null,
      "outputs": [
        {
          "output_type": "stream",
          "name": "stdout",
          "text": [
            "Archive:  pe-files-malwares.zip\n",
            "  inflating: dataset_malwares.csv    \n",
            "  inflating: dataset_test.csv        \n"
          ]
        }
      ]
    },
    {
      "cell_type": "markdown",
      "source": [
        "Ahora podemos subir el segundo dataset, que en este caso se encuentra en un repositorio de Github:  https://github.com/Kiinitix/Malware-Detection-using-Machine-learning\n"
      ],
      "metadata": {
        "id": "KoRIvYlpT3Q1"
      }
    },
    {
      "cell_type": "code",
      "source": [
        "!wget https://raw.githubusercontent.com/Kiinitix/Malware-Detection-using-Machine-learning/main/Dataset/data.csv\n"
      ],
      "metadata": {
        "colab": {
          "base_uri": "https://localhost:8080/"
        },
        "id": "VOjo1H2hOVSF",
        "outputId": "241defb7-0ae2-4fcd-cd49-d0847046cc18"
      },
      "execution_count": null,
      "outputs": [
        {
          "output_type": "stream",
          "name": "stdout",
          "text": [
            "--2023-05-11 18:40:12--  https://raw.githubusercontent.com/Kiinitix/Malware-Detection-using-Machine-learning/main/Dataset/data.csv\n",
            "Resolving raw.githubusercontent.com (raw.githubusercontent.com)... 185.199.108.133, 185.199.109.133, 185.199.110.133, ...\n",
            "Connecting to raw.githubusercontent.com (raw.githubusercontent.com)|185.199.108.133|:443... connected.\n",
            "HTTP request sent, awaiting response... 200 OK\n",
            "Length: 50668563 (48M) [text/plain]\n",
            "Saving to: ‘data.csv’\n",
            "\n",
            "data.csv            100%[===================>]  48.32M   161MB/s    in 0.3s    \n",
            "\n",
            "2023-05-11 18:40:12 (161 MB/s) - ‘data.csv’ saved [50668563/50668563]\n",
            "\n"
          ]
        }
      ]
    },
    {
      "cell_type": "markdown",
      "source": [
        "Al igual que con el dataset de Kaggle, lo renombramos y guardamos en Google Drive"
      ],
      "metadata": {
        "id": "em5z4R8NVH7I"
      }
    },
    {
      "cell_type": "code",
      "source": [
        "os.rename(\"data.csv\", \"github_dataset_malware1.csv\")\n",
        "!mv github_dataset_malware1.csv /content/gdrive/MyDrive/malware_datasets\n"
      ],
      "metadata": {
        "id": "WyVAJ4PzU_KN"
      },
      "execution_count": null,
      "outputs": []
    },
    {
      "cell_type": "markdown",
      "source": [
        "El tercer dataset está disponible en: https://github.com/DA-Proj/PE-Malware-Dataset1 (Header.csv) más detalles disponibles en el artículo: https://arxiv.org/abs/2210.16285 y https://www.researchgate.net/publication/364932741_Multi-feature_Dataset_for_Windows_PE_Malware_Classification\n",
        "\n"
      ],
      "metadata": {
        "id": "WVn9y1MpEqv7"
      }
    },
    {
      "cell_type": "code",
      "source": [
        "!wget https://raw.githubusercontent.com/DA-Proj/PE-Malware-Dataset1/main/Header.csv\n",
        "os.rename(\"Header.csv\", \"github_dataset_malware2.csv\")\n",
        "!mv github_dataset_malware2.csv /content/gdrive/MyDrive/malware_datasets"
      ],
      "metadata": {
        "id": "XJcPBUrMVTRh",
        "colab": {
          "base_uri": "https://localhost:8080/"
        },
        "outputId": "4db0164b-992e-4330-8a5b-83e9e7915a16"
      },
      "execution_count": null,
      "outputs": [
        {
          "output_type": "stream",
          "name": "stdout",
          "text": [
            "--2023-05-11 18:40:13--  https://raw.githubusercontent.com/DA-Proj/PE-Malware-Dataset1/main/Header.csv\n",
            "Resolving raw.githubusercontent.com (raw.githubusercontent.com)... 185.199.108.133, 185.199.109.133, 185.199.110.133, ...\n",
            "Connecting to raw.githubusercontent.com (raw.githubusercontent.com)|185.199.108.133|:443... connected.\n",
            "HTTP request sent, awaiting response... 200 OK\n",
            "Length: 5046487 (4.8M) [text/plain]\n",
            "Saving to: ‘Header.csv’\n",
            "\n",
            "Header.csv          100%[===================>]   4.81M  --.-KB/s    in 0.08s   \n",
            "\n",
            "2023-05-11 18:40:13 (62.8 MB/s) - ‘Header.csv’ saved [5046487/5046487]\n",
            "\n"
          ]
        }
      ]
    },
    {
      "cell_type": "markdown",
      "source": [
        "El cuarto dataset se ha generado a partir de archivos ejecutables disponibles en mi ordenador personal.\n",
        "El script usado para recolectar los archivos y extraer las características se incluye junto con el resto de entregables.\n",
        "El csv con las características se ha subido manualmente a Google Drive: '/content/gdrive/MyDrive/malware_datasets/benign_files_pe.csv'\n"
      ],
      "metadata": {
        "id": "FsVCjJa4sx3q"
      }
    },
    {
      "cell_type": "code",
      "source": [],
      "metadata": {
        "id": "116nST0ttO5m"
      },
      "execution_count": null,
      "outputs": []
    }
  ]
}